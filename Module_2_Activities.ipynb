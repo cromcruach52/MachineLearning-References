{
  "cells": [
    {
      "cell_type": "markdown",
      "metadata": {
        "id": "view-in-github",
        "colab_type": "text"
      },
      "source": [
        "<a href=\"https://colab.research.google.com/github/cromcruach52/Pandas-Numpy-References/blob/main/Module_2_Activities.ipynb\" target=\"_parent\"><img src=\"https://colab.research.google.com/assets/colab-badge.svg\" alt=\"Open In Colab\"/></a>"
      ]
    },
    {
      "cell_type": "markdown",
      "id": "4919898e",
      "metadata": {
        "id": "4919898e"
      },
      "source": [
        "# Activity 1: Data Wranggling"
      ]
    },
    {
      "cell_type": "code",
      "execution_count": null,
      "id": "2ee33e75",
      "metadata": {
        "id": "2ee33e75"
      },
      "outputs": [],
      "source": [
        "# Link: https://archive.ics.uci.edu/dataset/45/heart+disease"
      ]
    },
    {
      "cell_type": "code",
      "execution_count": null,
      "id": "b8bdac2d",
      "metadata": {
        "id": "b8bdac2d"
      },
      "outputs": [],
      "source": [
        "import pandas as pd"
      ]
    },
    {
      "cell_type": "code",
      "execution_count": null,
      "id": "aef14ecc",
      "metadata": {
        "id": "aef14ecc"
      },
      "outputs": [],
      "source": [
        "heart_disease_data = pd.read_csv('Heart_Disease.csv')"
      ]
    },
    {
      "cell_type": "code",
      "execution_count": null,
      "id": "aba712c4",
      "metadata": {
        "id": "aba712c4",
        "outputId": "81e45c0d-0593-4860-9254-f3a71f9bfff6"
      },
      "outputs": [
        {
          "data": {
            "text/html": [
              "<div>\n",
              "<style scoped>\n",
              "    .dataframe tbody tr th:only-of-type {\n",
              "        vertical-align: middle;\n",
              "    }\n",
              "\n",
              "    .dataframe tbody tr th {\n",
              "        vertical-align: top;\n",
              "    }\n",
              "\n",
              "    .dataframe thead th {\n",
              "        text-align: right;\n",
              "    }\n",
              "</style>\n",
              "<table border=\"1\" class=\"dataframe\">\n",
              "  <thead>\n",
              "    <tr style=\"text-align: right;\">\n",
              "      <th></th>\n",
              "      <th>age</th>\n",
              "      <th>sex</th>\n",
              "      <th>chest_pain_type</th>\n",
              "      <th>resting_blood_pressure</th>\n",
              "      <th>cholestoral</th>\n",
              "      <th>fasting_blood_sugar</th>\n",
              "      <th>rest_ecg</th>\n",
              "      <th>Max_heart_rate</th>\n",
              "      <th>exercise_induced_angina</th>\n",
              "      <th>oldpeak</th>\n",
              "      <th>slope</th>\n",
              "      <th>vessels_colored_by_flourosopy</th>\n",
              "      <th>thalassemia</th>\n",
              "      <th>target</th>\n",
              "    </tr>\n",
              "  </thead>\n",
              "  <tbody>\n",
              "    <tr>\n",
              "      <th>0</th>\n",
              "      <td>52</td>\n",
              "      <td>Male</td>\n",
              "      <td>Typical angina</td>\n",
              "      <td>125</td>\n",
              "      <td>212</td>\n",
              "      <td>Lower than 120 mg/ml</td>\n",
              "      <td>ST-T wave abnormality</td>\n",
              "      <td>168</td>\n",
              "      <td>No</td>\n",
              "      <td>1.0</td>\n",
              "      <td>Downsloping</td>\n",
              "      <td>Two</td>\n",
              "      <td>Reversable Defect</td>\n",
              "      <td>0</td>\n",
              "    </tr>\n",
              "    <tr>\n",
              "      <th>1</th>\n",
              "      <td>53</td>\n",
              "      <td>Male</td>\n",
              "      <td>Typical angina</td>\n",
              "      <td>140</td>\n",
              "      <td>203</td>\n",
              "      <td>Greater than 120 mg/ml</td>\n",
              "      <td>Normal</td>\n",
              "      <td>155</td>\n",
              "      <td>Yes</td>\n",
              "      <td>3.1</td>\n",
              "      <td>Upsloping</td>\n",
              "      <td>Zero</td>\n",
              "      <td>Reversable Defect</td>\n",
              "      <td>0</td>\n",
              "    </tr>\n",
              "    <tr>\n",
              "      <th>2</th>\n",
              "      <td>70</td>\n",
              "      <td>Male</td>\n",
              "      <td>Typical angina</td>\n",
              "      <td>145</td>\n",
              "      <td>174</td>\n",
              "      <td>Lower than 120 mg/ml</td>\n",
              "      <td>ST-T wave abnormality</td>\n",
              "      <td>125</td>\n",
              "      <td>Yes</td>\n",
              "      <td>2.6</td>\n",
              "      <td>Upsloping</td>\n",
              "      <td>Zero</td>\n",
              "      <td>Reversable Defect</td>\n",
              "      <td>0</td>\n",
              "    </tr>\n",
              "    <tr>\n",
              "      <th>3</th>\n",
              "      <td>61</td>\n",
              "      <td>Male</td>\n",
              "      <td>Typical angina</td>\n",
              "      <td>148</td>\n",
              "      <td>203</td>\n",
              "      <td>Lower than 120 mg/ml</td>\n",
              "      <td>ST-T wave abnormality</td>\n",
              "      <td>161</td>\n",
              "      <td>No</td>\n",
              "      <td>0.0</td>\n",
              "      <td>Downsloping</td>\n",
              "      <td>One</td>\n",
              "      <td>Reversable Defect</td>\n",
              "      <td>0</td>\n",
              "    </tr>\n",
              "    <tr>\n",
              "      <th>4</th>\n",
              "      <td>62</td>\n",
              "      <td>Female</td>\n",
              "      <td>Typical angina</td>\n",
              "      <td>138</td>\n",
              "      <td>294</td>\n",
              "      <td>Greater than 120 mg/ml</td>\n",
              "      <td>ST-T wave abnormality</td>\n",
              "      <td>106</td>\n",
              "      <td>No</td>\n",
              "      <td>1.9</td>\n",
              "      <td>Flat</td>\n",
              "      <td>Three</td>\n",
              "      <td>Fixed Defect</td>\n",
              "      <td>0</td>\n",
              "    </tr>\n",
              "    <tr>\n",
              "      <th>...</th>\n",
              "      <td>...</td>\n",
              "      <td>...</td>\n",
              "      <td>...</td>\n",
              "      <td>...</td>\n",
              "      <td>...</td>\n",
              "      <td>...</td>\n",
              "      <td>...</td>\n",
              "      <td>...</td>\n",
              "      <td>...</td>\n",
              "      <td>...</td>\n",
              "      <td>...</td>\n",
              "      <td>...</td>\n",
              "      <td>...</td>\n",
              "      <td>...</td>\n",
              "    </tr>\n",
              "    <tr>\n",
              "      <th>1020</th>\n",
              "      <td>59</td>\n",
              "      <td>Male</td>\n",
              "      <td>Atypical angina</td>\n",
              "      <td>140</td>\n",
              "      <td>221</td>\n",
              "      <td>Lower than 120 mg/ml</td>\n",
              "      <td>ST-T wave abnormality</td>\n",
              "      <td>164</td>\n",
              "      <td>Yes</td>\n",
              "      <td>0.0</td>\n",
              "      <td>Downsloping</td>\n",
              "      <td>Zero</td>\n",
              "      <td>Fixed Defect</td>\n",
              "      <td>1</td>\n",
              "    </tr>\n",
              "    <tr>\n",
              "      <th>1021</th>\n",
              "      <td>60</td>\n",
              "      <td>Male</td>\n",
              "      <td>Typical angina</td>\n",
              "      <td>125</td>\n",
              "      <td>258</td>\n",
              "      <td>Lower than 120 mg/ml</td>\n",
              "      <td>Normal</td>\n",
              "      <td>141</td>\n",
              "      <td>Yes</td>\n",
              "      <td>2.8</td>\n",
              "      <td>Flat</td>\n",
              "      <td>One</td>\n",
              "      <td>Reversable Defect</td>\n",
              "      <td>0</td>\n",
              "    </tr>\n",
              "    <tr>\n",
              "      <th>1022</th>\n",
              "      <td>47</td>\n",
              "      <td>Male</td>\n",
              "      <td>Typical angina</td>\n",
              "      <td>110</td>\n",
              "      <td>275</td>\n",
              "      <td>Lower than 120 mg/ml</td>\n",
              "      <td>Normal</td>\n",
              "      <td>118</td>\n",
              "      <td>Yes</td>\n",
              "      <td>1.0</td>\n",
              "      <td>Flat</td>\n",
              "      <td>One</td>\n",
              "      <td>Fixed Defect</td>\n",
              "      <td>0</td>\n",
              "    </tr>\n",
              "    <tr>\n",
              "      <th>1023</th>\n",
              "      <td>50</td>\n",
              "      <td>Female</td>\n",
              "      <td>Typical angina</td>\n",
              "      <td>110</td>\n",
              "      <td>254</td>\n",
              "      <td>Lower than 120 mg/ml</td>\n",
              "      <td>Normal</td>\n",
              "      <td>159</td>\n",
              "      <td>No</td>\n",
              "      <td>0.0</td>\n",
              "      <td>Downsloping</td>\n",
              "      <td>Zero</td>\n",
              "      <td>Fixed Defect</td>\n",
              "      <td>1</td>\n",
              "    </tr>\n",
              "    <tr>\n",
              "      <th>1024</th>\n",
              "      <td>54</td>\n",
              "      <td>Male</td>\n",
              "      <td>Typical angina</td>\n",
              "      <td>120</td>\n",
              "      <td>188</td>\n",
              "      <td>Lower than 120 mg/ml</td>\n",
              "      <td>ST-T wave abnormality</td>\n",
              "      <td>113</td>\n",
              "      <td>No</td>\n",
              "      <td>1.4</td>\n",
              "      <td>Flat</td>\n",
              "      <td>One</td>\n",
              "      <td>Reversable Defect</td>\n",
              "      <td>0</td>\n",
              "    </tr>\n",
              "  </tbody>\n",
              "</table>\n",
              "<p>1025 rows × 14 columns</p>\n",
              "</div>"
            ],
            "text/plain": [
              "      age     sex  chest_pain_type  resting_blood_pressure  cholestoral  \\\n",
              "0      52    Male   Typical angina                     125          212   \n",
              "1      53    Male   Typical angina                     140          203   \n",
              "2      70    Male   Typical angina                     145          174   \n",
              "3      61    Male   Typical angina                     148          203   \n",
              "4      62  Female   Typical angina                     138          294   \n",
              "...   ...     ...              ...                     ...          ...   \n",
              "1020   59    Male  Atypical angina                     140          221   \n",
              "1021   60    Male   Typical angina                     125          258   \n",
              "1022   47    Male   Typical angina                     110          275   \n",
              "1023   50  Female   Typical angina                     110          254   \n",
              "1024   54    Male   Typical angina                     120          188   \n",
              "\n",
              "         fasting_blood_sugar               rest_ecg  Max_heart_rate  \\\n",
              "0       Lower than 120 mg/ml  ST-T wave abnormality             168   \n",
              "1     Greater than 120 mg/ml                 Normal             155   \n",
              "2       Lower than 120 mg/ml  ST-T wave abnormality             125   \n",
              "3       Lower than 120 mg/ml  ST-T wave abnormality             161   \n",
              "4     Greater than 120 mg/ml  ST-T wave abnormality             106   \n",
              "...                      ...                    ...             ...   \n",
              "1020    Lower than 120 mg/ml  ST-T wave abnormality             164   \n",
              "1021    Lower than 120 mg/ml                 Normal             141   \n",
              "1022    Lower than 120 mg/ml                 Normal             118   \n",
              "1023    Lower than 120 mg/ml                 Normal             159   \n",
              "1024    Lower than 120 mg/ml  ST-T wave abnormality             113   \n",
              "\n",
              "     exercise_induced_angina  oldpeak        slope  \\\n",
              "0                         No      1.0  Downsloping   \n",
              "1                        Yes      3.1    Upsloping   \n",
              "2                        Yes      2.6    Upsloping   \n",
              "3                         No      0.0  Downsloping   \n",
              "4                         No      1.9         Flat   \n",
              "...                      ...      ...          ...   \n",
              "1020                     Yes      0.0  Downsloping   \n",
              "1021                     Yes      2.8         Flat   \n",
              "1022                     Yes      1.0         Flat   \n",
              "1023                      No      0.0  Downsloping   \n",
              "1024                      No      1.4         Flat   \n",
              "\n",
              "     vessels_colored_by_flourosopy        thalassemia  target  \n",
              "0                              Two  Reversable Defect       0  \n",
              "1                             Zero  Reversable Defect       0  \n",
              "2                             Zero  Reversable Defect       0  \n",
              "3                              One  Reversable Defect       0  \n",
              "4                            Three       Fixed Defect       0  \n",
              "...                            ...                ...     ...  \n",
              "1020                          Zero       Fixed Defect       1  \n",
              "1021                           One  Reversable Defect       0  \n",
              "1022                           One       Fixed Defect       0  \n",
              "1023                          Zero       Fixed Defect       1  \n",
              "1024                           One  Reversable Defect       0  \n",
              "\n",
              "[1025 rows x 14 columns]"
            ]
          },
          "execution_count": 4,
          "metadata": {},
          "output_type": "execute_result"
        }
      ],
      "source": [
        "heart_disease_data"
      ]
    },
    {
      "cell_type": "code",
      "execution_count": null,
      "id": "12f7277a",
      "metadata": {
        "id": "12f7277a"
      },
      "outputs": [],
      "source": [
        "# Link: https://archive.ics.uci.edu/dataset/45/heart+disease"
      ]
    },
    {
      "cell_type": "code",
      "execution_count": null,
      "id": "0206314c",
      "metadata": {
        "id": "0206314c"
      },
      "outputs": [],
      "source": [
        "heart_disease_data_cleaned = heart_disease_data.dropna()"
      ]
    },
    {
      "cell_type": "code",
      "execution_count": null,
      "id": "36f08989",
      "metadata": {
        "id": "36f08989",
        "outputId": "23c6ce14-4413-4d93-ac28-5983099a755d"
      },
      "outputs": [
        {
          "data": {
            "text/html": [
              "<div>\n",
              "<style scoped>\n",
              "    .dataframe tbody tr th:only-of-type {\n",
              "        vertical-align: middle;\n",
              "    }\n",
              "\n",
              "    .dataframe tbody tr th {\n",
              "        vertical-align: top;\n",
              "    }\n",
              "\n",
              "    .dataframe thead th {\n",
              "        text-align: right;\n",
              "    }\n",
              "</style>\n",
              "<table border=\"1\" class=\"dataframe\">\n",
              "  <thead>\n",
              "    <tr style=\"text-align: right;\">\n",
              "      <th></th>\n",
              "      <th>age</th>\n",
              "      <th>sex</th>\n",
              "      <th>chest_pain_type</th>\n",
              "      <th>resting_blood_pressure</th>\n",
              "      <th>cholestoral</th>\n",
              "      <th>fasting_blood_sugar</th>\n",
              "      <th>rest_ecg</th>\n",
              "      <th>Max_heart_rate</th>\n",
              "      <th>exercise_induced_angina</th>\n",
              "      <th>oldpeak</th>\n",
              "      <th>slope</th>\n",
              "      <th>vessels_colored_by_flourosopy</th>\n",
              "      <th>thalassemia</th>\n",
              "      <th>target</th>\n",
              "    </tr>\n",
              "  </thead>\n",
              "  <tbody>\n",
              "    <tr>\n",
              "      <th>0</th>\n",
              "      <td>52</td>\n",
              "      <td>Male</td>\n",
              "      <td>Typical angina</td>\n",
              "      <td>125</td>\n",
              "      <td>212</td>\n",
              "      <td>Lower than 120 mg/ml</td>\n",
              "      <td>ST-T wave abnormality</td>\n",
              "      <td>168</td>\n",
              "      <td>No</td>\n",
              "      <td>1.0</td>\n",
              "      <td>Downsloping</td>\n",
              "      <td>Two</td>\n",
              "      <td>Reversable Defect</td>\n",
              "      <td>0</td>\n",
              "    </tr>\n",
              "    <tr>\n",
              "      <th>1</th>\n",
              "      <td>53</td>\n",
              "      <td>Male</td>\n",
              "      <td>Typical angina</td>\n",
              "      <td>140</td>\n",
              "      <td>203</td>\n",
              "      <td>Greater than 120 mg/ml</td>\n",
              "      <td>Normal</td>\n",
              "      <td>155</td>\n",
              "      <td>Yes</td>\n",
              "      <td>3.1</td>\n",
              "      <td>Upsloping</td>\n",
              "      <td>Zero</td>\n",
              "      <td>Reversable Defect</td>\n",
              "      <td>0</td>\n",
              "    </tr>\n",
              "    <tr>\n",
              "      <th>2</th>\n",
              "      <td>70</td>\n",
              "      <td>Male</td>\n",
              "      <td>Typical angina</td>\n",
              "      <td>145</td>\n",
              "      <td>174</td>\n",
              "      <td>Lower than 120 mg/ml</td>\n",
              "      <td>ST-T wave abnormality</td>\n",
              "      <td>125</td>\n",
              "      <td>Yes</td>\n",
              "      <td>2.6</td>\n",
              "      <td>Upsloping</td>\n",
              "      <td>Zero</td>\n",
              "      <td>Reversable Defect</td>\n",
              "      <td>0</td>\n",
              "    </tr>\n",
              "    <tr>\n",
              "      <th>3</th>\n",
              "      <td>61</td>\n",
              "      <td>Male</td>\n",
              "      <td>Typical angina</td>\n",
              "      <td>148</td>\n",
              "      <td>203</td>\n",
              "      <td>Lower than 120 mg/ml</td>\n",
              "      <td>ST-T wave abnormality</td>\n",
              "      <td>161</td>\n",
              "      <td>No</td>\n",
              "      <td>0.0</td>\n",
              "      <td>Downsloping</td>\n",
              "      <td>One</td>\n",
              "      <td>Reversable Defect</td>\n",
              "      <td>0</td>\n",
              "    </tr>\n",
              "    <tr>\n",
              "      <th>4</th>\n",
              "      <td>62</td>\n",
              "      <td>Female</td>\n",
              "      <td>Typical angina</td>\n",
              "      <td>138</td>\n",
              "      <td>294</td>\n",
              "      <td>Greater than 120 mg/ml</td>\n",
              "      <td>ST-T wave abnormality</td>\n",
              "      <td>106</td>\n",
              "      <td>No</td>\n",
              "      <td>1.9</td>\n",
              "      <td>Flat</td>\n",
              "      <td>Three</td>\n",
              "      <td>Fixed Defect</td>\n",
              "      <td>0</td>\n",
              "    </tr>\n",
              "    <tr>\n",
              "      <th>...</th>\n",
              "      <td>...</td>\n",
              "      <td>...</td>\n",
              "      <td>...</td>\n",
              "      <td>...</td>\n",
              "      <td>...</td>\n",
              "      <td>...</td>\n",
              "      <td>...</td>\n",
              "      <td>...</td>\n",
              "      <td>...</td>\n",
              "      <td>...</td>\n",
              "      <td>...</td>\n",
              "      <td>...</td>\n",
              "      <td>...</td>\n",
              "      <td>...</td>\n",
              "    </tr>\n",
              "    <tr>\n",
              "      <th>1020</th>\n",
              "      <td>59</td>\n",
              "      <td>Male</td>\n",
              "      <td>Atypical angina</td>\n",
              "      <td>140</td>\n",
              "      <td>221</td>\n",
              "      <td>Lower than 120 mg/ml</td>\n",
              "      <td>ST-T wave abnormality</td>\n",
              "      <td>164</td>\n",
              "      <td>Yes</td>\n",
              "      <td>0.0</td>\n",
              "      <td>Downsloping</td>\n",
              "      <td>Zero</td>\n",
              "      <td>Fixed Defect</td>\n",
              "      <td>1</td>\n",
              "    </tr>\n",
              "    <tr>\n",
              "      <th>1021</th>\n",
              "      <td>60</td>\n",
              "      <td>Male</td>\n",
              "      <td>Typical angina</td>\n",
              "      <td>125</td>\n",
              "      <td>258</td>\n",
              "      <td>Lower than 120 mg/ml</td>\n",
              "      <td>Normal</td>\n",
              "      <td>141</td>\n",
              "      <td>Yes</td>\n",
              "      <td>2.8</td>\n",
              "      <td>Flat</td>\n",
              "      <td>One</td>\n",
              "      <td>Reversable Defect</td>\n",
              "      <td>0</td>\n",
              "    </tr>\n",
              "    <tr>\n",
              "      <th>1022</th>\n",
              "      <td>47</td>\n",
              "      <td>Male</td>\n",
              "      <td>Typical angina</td>\n",
              "      <td>110</td>\n",
              "      <td>275</td>\n",
              "      <td>Lower than 120 mg/ml</td>\n",
              "      <td>Normal</td>\n",
              "      <td>118</td>\n",
              "      <td>Yes</td>\n",
              "      <td>1.0</td>\n",
              "      <td>Flat</td>\n",
              "      <td>One</td>\n",
              "      <td>Fixed Defect</td>\n",
              "      <td>0</td>\n",
              "    </tr>\n",
              "    <tr>\n",
              "      <th>1023</th>\n",
              "      <td>50</td>\n",
              "      <td>Female</td>\n",
              "      <td>Typical angina</td>\n",
              "      <td>110</td>\n",
              "      <td>254</td>\n",
              "      <td>Lower than 120 mg/ml</td>\n",
              "      <td>Normal</td>\n",
              "      <td>159</td>\n",
              "      <td>No</td>\n",
              "      <td>0.0</td>\n",
              "      <td>Downsloping</td>\n",
              "      <td>Zero</td>\n",
              "      <td>Fixed Defect</td>\n",
              "      <td>1</td>\n",
              "    </tr>\n",
              "    <tr>\n",
              "      <th>1024</th>\n",
              "      <td>54</td>\n",
              "      <td>Male</td>\n",
              "      <td>Typical angina</td>\n",
              "      <td>120</td>\n",
              "      <td>188</td>\n",
              "      <td>Lower than 120 mg/ml</td>\n",
              "      <td>ST-T wave abnormality</td>\n",
              "      <td>113</td>\n",
              "      <td>No</td>\n",
              "      <td>1.4</td>\n",
              "      <td>Flat</td>\n",
              "      <td>One</td>\n",
              "      <td>Reversable Defect</td>\n",
              "      <td>0</td>\n",
              "    </tr>\n",
              "  </tbody>\n",
              "</table>\n",
              "<p>1025 rows × 14 columns</p>\n",
              "</div>"
            ],
            "text/plain": [
              "      age     sex  chest_pain_type  resting_blood_pressure  cholestoral  \\\n",
              "0      52    Male   Typical angina                     125          212   \n",
              "1      53    Male   Typical angina                     140          203   \n",
              "2      70    Male   Typical angina                     145          174   \n",
              "3      61    Male   Typical angina                     148          203   \n",
              "4      62  Female   Typical angina                     138          294   \n",
              "...   ...     ...              ...                     ...          ...   \n",
              "1020   59    Male  Atypical angina                     140          221   \n",
              "1021   60    Male   Typical angina                     125          258   \n",
              "1022   47    Male   Typical angina                     110          275   \n",
              "1023   50  Female   Typical angina                     110          254   \n",
              "1024   54    Male   Typical angina                     120          188   \n",
              "\n",
              "         fasting_blood_sugar               rest_ecg  Max_heart_rate  \\\n",
              "0       Lower than 120 mg/ml  ST-T wave abnormality             168   \n",
              "1     Greater than 120 mg/ml                 Normal             155   \n",
              "2       Lower than 120 mg/ml  ST-T wave abnormality             125   \n",
              "3       Lower than 120 mg/ml  ST-T wave abnormality             161   \n",
              "4     Greater than 120 mg/ml  ST-T wave abnormality             106   \n",
              "...                      ...                    ...             ...   \n",
              "1020    Lower than 120 mg/ml  ST-T wave abnormality             164   \n",
              "1021    Lower than 120 mg/ml                 Normal             141   \n",
              "1022    Lower than 120 mg/ml                 Normal             118   \n",
              "1023    Lower than 120 mg/ml                 Normal             159   \n",
              "1024    Lower than 120 mg/ml  ST-T wave abnormality             113   \n",
              "\n",
              "     exercise_induced_angina  oldpeak        slope  \\\n",
              "0                         No      1.0  Downsloping   \n",
              "1                        Yes      3.1    Upsloping   \n",
              "2                        Yes      2.6    Upsloping   \n",
              "3                         No      0.0  Downsloping   \n",
              "4                         No      1.9         Flat   \n",
              "...                      ...      ...          ...   \n",
              "1020                     Yes      0.0  Downsloping   \n",
              "1021                     Yes      2.8         Flat   \n",
              "1022                     Yes      1.0         Flat   \n",
              "1023                      No      0.0  Downsloping   \n",
              "1024                      No      1.4         Flat   \n",
              "\n",
              "     vessels_colored_by_flourosopy        thalassemia  target  \n",
              "0                              Two  Reversable Defect       0  \n",
              "1                             Zero  Reversable Defect       0  \n",
              "2                             Zero  Reversable Defect       0  \n",
              "3                              One  Reversable Defect       0  \n",
              "4                            Three       Fixed Defect       0  \n",
              "...                            ...                ...     ...  \n",
              "1020                          Zero       Fixed Defect       1  \n",
              "1021                           One  Reversable Defect       0  \n",
              "1022                           One       Fixed Defect       0  \n",
              "1023                          Zero       Fixed Defect       1  \n",
              "1024                           One  Reversable Defect       0  \n",
              "\n",
              "[1025 rows x 14 columns]"
            ]
          },
          "execution_count": 6,
          "metadata": {},
          "output_type": "execute_result"
        }
      ],
      "source": [
        "heart_disease_data_cleaned"
      ]
    },
    {
      "cell_type": "markdown",
      "id": "68d086f5",
      "metadata": {
        "id": "68d086f5"
      },
      "source": [
        "# Activity 2: Handling Missing Values and Duplicates"
      ]
    },
    {
      "cell_type": "markdown",
      "id": "fa35c8e8",
      "metadata": {
        "id": "fa35c8e8"
      },
      "source": [
        "# 2.1 Handling Missing Values"
      ]
    },
    {
      "cell_type": "code",
      "execution_count": null,
      "id": "b46d2ed3",
      "metadata": {
        "id": "b46d2ed3"
      },
      "outputs": [],
      "source": [
        "heart_disease_missing_val = heart_disease_data.isnull().sum()"
      ]
    },
    {
      "cell_type": "code",
      "execution_count": null,
      "id": "4c41b1a6",
      "metadata": {
        "id": "4c41b1a6",
        "outputId": "733d7902-65f2-4501-d5ae-f1163075953a"
      },
      "outputs": [
        {
          "data": {
            "text/plain": [
              "age                              0\n",
              "sex                              0\n",
              "chest_pain_type                  0\n",
              "resting_blood_pressure           0\n",
              "cholestoral                      0\n",
              "fasting_blood_sugar              0\n",
              "rest_ecg                         0\n",
              "Max_heart_rate                   0\n",
              "exercise_induced_angina          0\n",
              "oldpeak                          0\n",
              "slope                            0\n",
              "vessels_colored_by_flourosopy    0\n",
              "thalassemia                      0\n",
              "target                           0\n",
              "dtype: int64"
            ]
          },
          "execution_count": 55,
          "metadata": {},
          "output_type": "execute_result"
        }
      ],
      "source": [
        "heart_disease_missing_val"
      ]
    },
    {
      "cell_type": "markdown",
      "id": "1dcbd203",
      "metadata": {
        "id": "1dcbd203"
      },
      "source": [
        "# 2.2 Handling Duplicates"
      ]
    },
    {
      "cell_type": "code",
      "execution_count": null,
      "id": "1a6429c8",
      "metadata": {
        "id": "1a6429c8"
      },
      "outputs": [],
      "source": [
        "# Link: https://archive.ics.uci.edu/dataset/45/heart+disease"
      ]
    },
    {
      "cell_type": "code",
      "execution_count": null,
      "id": "5276f58b",
      "metadata": {
        "id": "5276f58b"
      },
      "outputs": [],
      "source": [
        "heart_disease_duplicate_rows = heart_disease_data.duplicated()"
      ]
    },
    {
      "cell_type": "code",
      "execution_count": null,
      "id": "dacaea7b",
      "metadata": {
        "id": "dacaea7b"
      },
      "outputs": [],
      "source": [
        "# 2.1.1 Handling Duplicates"
      ]
    },
    {
      "cell_type": "code",
      "execution_count": null,
      "id": "7239cf11",
      "metadata": {
        "id": "7239cf11"
      },
      "outputs": [],
      "source": [
        "# using 'print', it outputs the number of how many duplicates there are."
      ]
    },
    {
      "cell_type": "code",
      "execution_count": null,
      "id": "10dfef8e",
      "metadata": {
        "id": "10dfef8e",
        "outputId": "f7b32839-ff8b-40ea-a55b-865717ac680d"
      },
      "outputs": [
        {
          "name": "stdout",
          "output_type": "stream",
          "text": [
            "Number of Duplicate Rows: 723\n"
          ]
        }
      ],
      "source": [
        "print(\"Number of Duplicate Rows:\", heart_disease_duplicate_rows.sum())"
      ]
    },
    {
      "cell_type": "code",
      "execution_count": null,
      "id": "37e1a2a5",
      "metadata": {
        "id": "37e1a2a5"
      },
      "outputs": [],
      "source": [
        "# 2.1.2 Handling Duplicates"
      ]
    },
    {
      "cell_type": "code",
      "execution_count": null,
      "id": "e0543974",
      "metadata": {
        "id": "e0543974"
      },
      "outputs": [],
      "source": [
        "# inputting 'heart_disease_duplicate_rows' straight, then running it from there, it outputs all the data by number, then outputs True or False to check if there is a duplicate row."
      ]
    },
    {
      "cell_type": "code",
      "execution_count": null,
      "id": "fa954ef9",
      "metadata": {
        "id": "fa954ef9",
        "outputId": "5bfc105b-158e-49d2-dd54-075d46d6c1f4"
      },
      "outputs": [
        {
          "data": {
            "text/plain": [
              "0       False\n",
              "1       False\n",
              "2       False\n",
              "3       False\n",
              "4       False\n",
              "        ...  \n",
              "1020     True\n",
              "1021     True\n",
              "1022     True\n",
              "1023     True\n",
              "1024     True\n",
              "Length: 1025, dtype: bool"
            ]
          },
          "execution_count": 40,
          "metadata": {},
          "output_type": "execute_result"
        }
      ],
      "source": [
        "heart_disease_duplicate_rows"
      ]
    },
    {
      "cell_type": "code",
      "execution_count": null,
      "id": "1f2c961f",
      "metadata": {
        "id": "1f2c961f"
      },
      "outputs": [],
      "source": [
        "# 2.1.3 Handling Duplicates"
      ]
    },
    {
      "cell_type": "code",
      "execution_count": null,
      "id": "3dfaddc5",
      "metadata": {
        "id": "3dfaddc5"
      },
      "outputs": [],
      "source": [
        "# identifying all occurences for all duplicate in the data"
      ]
    },
    {
      "cell_type": "code",
      "execution_count": null,
      "id": "a2c8e46d",
      "metadata": {
        "id": "a2c8e46d",
        "outputId": "80d194fa-18d2-4bb5-dedc-ff84ff708e54"
      },
      "outputs": [
        {
          "name": "stdout",
          "output_type": "stream",
          "text": [
            "\n",
            "Duplicate Rows (all occurences):\n",
            "      age     sex   chest_pain_type  resting_blood_pressure  cholestoral  \\\n",
            "15     34  Female   Atypical angina                     118          210   \n",
            "31     50  Female   Atypical angina                     120          244   \n",
            "43     46    Male    Typical angina                     120          249   \n",
            "55     55    Male    Typical angina                     140          217   \n",
            "61     66  Female  Non-anginal pain                     146          278   \n",
            "...   ...     ...               ...                     ...          ...   \n",
            "1020   59    Male   Atypical angina                     140          221   \n",
            "1021   60    Male    Typical angina                     125          258   \n",
            "1022   47    Male    Typical angina                     110          275   \n",
            "1023   50  Female    Typical angina                     110          254   \n",
            "1024   54    Male    Typical angina                     120          188   \n",
            "\n",
            "       fasting_blood_sugar               rest_ecg  Max_heart_rate  \\\n",
            "15    Lower than 120 mg/ml  ST-T wave abnormality             192   \n",
            "31    Lower than 120 mg/ml  ST-T wave abnormality             162   \n",
            "43    Lower than 120 mg/ml                 Normal             144   \n",
            "55    Lower than 120 mg/ml  ST-T wave abnormality             111   \n",
            "61    Lower than 120 mg/ml                 Normal             152   \n",
            "...                    ...                    ...             ...   \n",
            "1020  Lower than 120 mg/ml  ST-T wave abnormality             164   \n",
            "1021  Lower than 120 mg/ml                 Normal             141   \n",
            "1022  Lower than 120 mg/ml                 Normal             118   \n",
            "1023  Lower than 120 mg/ml                 Normal             159   \n",
            "1024  Lower than 120 mg/ml  ST-T wave abnormality             113   \n",
            "\n",
            "     exercise_induced_angina  oldpeak        slope  \\\n",
            "15                        No      0.7  Downsloping   \n",
            "31                        No      1.1  Downsloping   \n",
            "43                        No      0.8  Downsloping   \n",
            "55                       Yes      5.6    Upsloping   \n",
            "61                        No      0.0         Flat   \n",
            "...                      ...      ...          ...   \n",
            "1020                     Yes      0.0  Downsloping   \n",
            "1021                     Yes      2.8         Flat   \n",
            "1022                     Yes      1.0         Flat   \n",
            "1023                      No      0.0  Downsloping   \n",
            "1024                      No      1.4         Flat   \n",
            "\n",
            "     vessels_colored_by_flourosopy        thalassemia  target  \n",
            "15                            Zero       Fixed Defect       1  \n",
            "31                            Zero       Fixed Defect       1  \n",
            "43                            Zero  Reversable Defect       0  \n",
            "55                            Zero  Reversable Defect       0  \n",
            "61                             One       Fixed Defect       1  \n",
            "...                            ...                ...     ...  \n",
            "1020                          Zero       Fixed Defect       1  \n",
            "1021                           One  Reversable Defect       0  \n",
            "1022                           One       Fixed Defect       0  \n",
            "1023                          Zero       Fixed Defect       1  \n",
            "1024                           One  Reversable Defect       0  \n",
            "\n",
            "[723 rows x 14 columns]\n"
          ]
        }
      ],
      "source": [
        "heart_disease_duplicate_rows = heart_disease_data[duplicate_rows]\n",
        "print(\"\\nDuplicate Rows (all occurences):\")\n",
        "print(heart_disease_duplicate_rows)"
      ]
    },
    {
      "cell_type": "code",
      "execution_count": null,
      "id": "56f768fd",
      "metadata": {
        "id": "56f768fd"
      },
      "outputs": [],
      "source": [
        "# 2.1.1.1 Removing duplicate rows"
      ]
    },
    {
      "cell_type": "code",
      "execution_count": null,
      "id": "ae451baa",
      "metadata": {
        "id": "ae451baa"
      },
      "outputs": [],
      "source": [
        "# using 'drop_duplicates', this will remove all data occurences with duplicates."
      ]
    },
    {
      "cell_type": "code",
      "execution_count": null,
      "id": "713364a8",
      "metadata": {
        "id": "713364a8"
      },
      "outputs": [],
      "source": [
        "heart_disease_data_drop_dup = heart_disease_data.drop_duplicates()"
      ]
    },
    {
      "cell_type": "code",
      "execution_count": null,
      "id": "e995ed53",
      "metadata": {
        "id": "e995ed53",
        "outputId": "6fbcb597-40d8-4125-ae11-0699a0b4875d"
      },
      "outputs": [
        {
          "name": "stdout",
          "output_type": "stream",
          "text": [
            "\n",
            "Heart Disease Data after dropping dupplicates:\n",
            "\n",
            "     age     sex   chest_pain_type  resting_blood_pressure  cholestoral  \\\n",
            "0     52    Male    Typical angina                     125          212   \n",
            "1     53    Male    Typical angina                     140          203   \n",
            "2     70    Male    Typical angina                     145          174   \n",
            "3     61    Male    Typical angina                     148          203   \n",
            "4     62  Female    Typical angina                     138          294   \n",
            "..   ...     ...               ...                     ...          ...   \n",
            "723   68  Female  Non-anginal pain                     120          211   \n",
            "733   44  Female  Non-anginal pain                     108          141   \n",
            "739   52    Male    Typical angina                     128          255   \n",
            "843   59    Male      Asymptomatic                     160          273   \n",
            "878   54    Male    Typical angina                     120          188   \n",
            "\n",
            "        fasting_blood_sugar               rest_ecg  Max_heart_rate  \\\n",
            "0      Lower than 120 mg/ml  ST-T wave abnormality             168   \n",
            "1    Greater than 120 mg/ml                 Normal             155   \n",
            "2      Lower than 120 mg/ml  ST-T wave abnormality             125   \n",
            "3      Lower than 120 mg/ml  ST-T wave abnormality             161   \n",
            "4    Greater than 120 mg/ml  ST-T wave abnormality             106   \n",
            "..                      ...                    ...             ...   \n",
            "723    Lower than 120 mg/ml                 Normal             115   \n",
            "733    Lower than 120 mg/ml  ST-T wave abnormality             175   \n",
            "739    Lower than 120 mg/ml  ST-T wave abnormality             161   \n",
            "843    Lower than 120 mg/ml                 Normal             125   \n",
            "878    Lower than 120 mg/ml  ST-T wave abnormality             113   \n",
            "\n",
            "    exercise_induced_angina  oldpeak        slope  \\\n",
            "0                        No      1.0  Downsloping   \n",
            "1                       Yes      3.1    Upsloping   \n",
            "2                       Yes      2.6    Upsloping   \n",
            "3                        No      0.0  Downsloping   \n",
            "4                        No      1.9         Flat   \n",
            "..                      ...      ...          ...   \n",
            "723                      No      1.5         Flat   \n",
            "733                      No      0.6         Flat   \n",
            "739                     Yes      0.0  Downsloping   \n",
            "843                      No      0.0  Downsloping   \n",
            "878                      No      1.4         Flat   \n",
            "\n",
            "    vessels_colored_by_flourosopy        thalassemia  target  \n",
            "0                             Two  Reversable Defect       0  \n",
            "1                            Zero  Reversable Defect       0  \n",
            "2                            Zero  Reversable Defect       0  \n",
            "3                             One  Reversable Defect       0  \n",
            "4                           Three       Fixed Defect       0  \n",
            "..                            ...                ...     ...  \n",
            "723                          Zero       Fixed Defect       1  \n",
            "733                          Zero       Fixed Defect       1  \n",
            "739                           One  Reversable Defect       0  \n",
            "843                          Zero       Fixed Defect       0  \n",
            "878                           One  Reversable Defect       0  \n",
            "\n",
            "[302 rows x 14 columns]\n"
          ]
        }
      ],
      "source": [
        "print(\"\\nHeart Disease Data after dropping dupplicates:\\n\")\n",
        "print(heart_disease_data_drop_dup)"
      ]
    },
    {
      "cell_type": "markdown",
      "id": "74934c24",
      "metadata": {
        "id": "74934c24"
      },
      "source": [
        "# Data Wranggling and Preprocessing Activity\n",
        "\n",
        "#  Activity 3: Data Collection and Inspection"
      ]
    },
    {
      "cell_type": "code",
      "execution_count": null,
      "id": "2fbbcd6f",
      "metadata": {
        "id": "2fbbcd6f"
      },
      "outputs": [],
      "source": [
        "# https://archive.ics.uci.edu/dataset/186/wine+quality"
      ]
    },
    {
      "cell_type": "code",
      "execution_count": null,
      "id": "cc030ad1",
      "metadata": {
        "id": "cc030ad1"
      },
      "outputs": [],
      "source": [
        "import pandas as pd"
      ]
    },
    {
      "cell_type": "code",
      "execution_count": null,
      "id": "5af523a7",
      "metadata": {
        "id": "5af523a7"
      },
      "outputs": [],
      "source": [
        "wine_quality_red = pd.read_csv('winequality-red.csv', delimiter =';', quoting =1)"
      ]
    },
    {
      "cell_type": "code",
      "execution_count": null,
      "id": "d60c2f06",
      "metadata": {
        "id": "d60c2f06",
        "outputId": "dc9f1857-49a1-4782-d17c-c141fe4dc51b"
      },
      "outputs": [
        {
          "data": {
            "text/html": [
              "<div>\n",
              "<style scoped>\n",
              "    .dataframe tbody tr th:only-of-type {\n",
              "        vertical-align: middle;\n",
              "    }\n",
              "\n",
              "    .dataframe tbody tr th {\n",
              "        vertical-align: top;\n",
              "    }\n",
              "\n",
              "    .dataframe thead th {\n",
              "        text-align: right;\n",
              "    }\n",
              "</style>\n",
              "<table border=\"1\" class=\"dataframe\">\n",
              "  <thead>\n",
              "    <tr style=\"text-align: right;\">\n",
              "      <th></th>\n",
              "      <th>fixed acidity</th>\n",
              "      <th>volatile acidity</th>\n",
              "      <th>citric acid</th>\n",
              "      <th>residual sugar</th>\n",
              "      <th>chlorides</th>\n",
              "      <th>free sulfur dioxide</th>\n",
              "      <th>total sulfur dioxide</th>\n",
              "      <th>density</th>\n",
              "      <th>pH</th>\n",
              "      <th>sulphates</th>\n",
              "      <th>alcohol</th>\n",
              "      <th>quality</th>\n",
              "    </tr>\n",
              "  </thead>\n",
              "  <tbody>\n",
              "    <tr>\n",
              "      <th>0</th>\n",
              "      <td>7.4</td>\n",
              "      <td>0.700</td>\n",
              "      <td>0.00</td>\n",
              "      <td>1.9</td>\n",
              "      <td>0.076</td>\n",
              "      <td>11.0</td>\n",
              "      <td>34.0</td>\n",
              "      <td>0.99780</td>\n",
              "      <td>3.51</td>\n",
              "      <td>0.56</td>\n",
              "      <td>9.4</td>\n",
              "      <td>5</td>\n",
              "    </tr>\n",
              "    <tr>\n",
              "      <th>1</th>\n",
              "      <td>7.8</td>\n",
              "      <td>0.880</td>\n",
              "      <td>0.00</td>\n",
              "      <td>2.6</td>\n",
              "      <td>0.098</td>\n",
              "      <td>25.0</td>\n",
              "      <td>67.0</td>\n",
              "      <td>0.99680</td>\n",
              "      <td>3.20</td>\n",
              "      <td>0.68</td>\n",
              "      <td>9.8</td>\n",
              "      <td>5</td>\n",
              "    </tr>\n",
              "    <tr>\n",
              "      <th>2</th>\n",
              "      <td>7.8</td>\n",
              "      <td>0.760</td>\n",
              "      <td>0.04</td>\n",
              "      <td>2.3</td>\n",
              "      <td>0.092</td>\n",
              "      <td>15.0</td>\n",
              "      <td>54.0</td>\n",
              "      <td>0.99700</td>\n",
              "      <td>3.26</td>\n",
              "      <td>0.65</td>\n",
              "      <td>9.8</td>\n",
              "      <td>5</td>\n",
              "    </tr>\n",
              "    <tr>\n",
              "      <th>3</th>\n",
              "      <td>11.2</td>\n",
              "      <td>0.280</td>\n",
              "      <td>0.56</td>\n",
              "      <td>1.9</td>\n",
              "      <td>0.075</td>\n",
              "      <td>17.0</td>\n",
              "      <td>60.0</td>\n",
              "      <td>0.99800</td>\n",
              "      <td>3.16</td>\n",
              "      <td>0.58</td>\n",
              "      <td>9.8</td>\n",
              "      <td>6</td>\n",
              "    </tr>\n",
              "    <tr>\n",
              "      <th>4</th>\n",
              "      <td>7.4</td>\n",
              "      <td>0.700</td>\n",
              "      <td>0.00</td>\n",
              "      <td>1.9</td>\n",
              "      <td>0.076</td>\n",
              "      <td>11.0</td>\n",
              "      <td>34.0</td>\n",
              "      <td>0.99780</td>\n",
              "      <td>3.51</td>\n",
              "      <td>0.56</td>\n",
              "      <td>9.4</td>\n",
              "      <td>5</td>\n",
              "    </tr>\n",
              "    <tr>\n",
              "      <th>...</th>\n",
              "      <td>...</td>\n",
              "      <td>...</td>\n",
              "      <td>...</td>\n",
              "      <td>...</td>\n",
              "      <td>...</td>\n",
              "      <td>...</td>\n",
              "      <td>...</td>\n",
              "      <td>...</td>\n",
              "      <td>...</td>\n",
              "      <td>...</td>\n",
              "      <td>...</td>\n",
              "      <td>...</td>\n",
              "    </tr>\n",
              "    <tr>\n",
              "      <th>1594</th>\n",
              "      <td>6.2</td>\n",
              "      <td>0.600</td>\n",
              "      <td>0.08</td>\n",
              "      <td>2.0</td>\n",
              "      <td>0.090</td>\n",
              "      <td>32.0</td>\n",
              "      <td>44.0</td>\n",
              "      <td>0.99490</td>\n",
              "      <td>3.45</td>\n",
              "      <td>0.58</td>\n",
              "      <td>10.5</td>\n",
              "      <td>5</td>\n",
              "    </tr>\n",
              "    <tr>\n",
              "      <th>1595</th>\n",
              "      <td>5.9</td>\n",
              "      <td>0.550</td>\n",
              "      <td>0.10</td>\n",
              "      <td>2.2</td>\n",
              "      <td>0.062</td>\n",
              "      <td>39.0</td>\n",
              "      <td>51.0</td>\n",
              "      <td>0.99512</td>\n",
              "      <td>3.52</td>\n",
              "      <td>0.76</td>\n",
              "      <td>11.2</td>\n",
              "      <td>6</td>\n",
              "    </tr>\n",
              "    <tr>\n",
              "      <th>1596</th>\n",
              "      <td>6.3</td>\n",
              "      <td>0.510</td>\n",
              "      <td>0.13</td>\n",
              "      <td>2.3</td>\n",
              "      <td>0.076</td>\n",
              "      <td>29.0</td>\n",
              "      <td>40.0</td>\n",
              "      <td>0.99574</td>\n",
              "      <td>3.42</td>\n",
              "      <td>0.75</td>\n",
              "      <td>11.0</td>\n",
              "      <td>6</td>\n",
              "    </tr>\n",
              "    <tr>\n",
              "      <th>1597</th>\n",
              "      <td>5.9</td>\n",
              "      <td>0.645</td>\n",
              "      <td>0.12</td>\n",
              "      <td>2.0</td>\n",
              "      <td>0.075</td>\n",
              "      <td>32.0</td>\n",
              "      <td>44.0</td>\n",
              "      <td>0.99547</td>\n",
              "      <td>3.57</td>\n",
              "      <td>0.71</td>\n",
              "      <td>10.2</td>\n",
              "      <td>5</td>\n",
              "    </tr>\n",
              "    <tr>\n",
              "      <th>1598</th>\n",
              "      <td>6.0</td>\n",
              "      <td>0.310</td>\n",
              "      <td>0.47</td>\n",
              "      <td>3.6</td>\n",
              "      <td>0.067</td>\n",
              "      <td>18.0</td>\n",
              "      <td>42.0</td>\n",
              "      <td>0.99549</td>\n",
              "      <td>3.39</td>\n",
              "      <td>0.66</td>\n",
              "      <td>11.0</td>\n",
              "      <td>6</td>\n",
              "    </tr>\n",
              "  </tbody>\n",
              "</table>\n",
              "<p>1599 rows × 12 columns</p>\n",
              "</div>"
            ],
            "text/plain": [
              "      fixed acidity  volatile acidity  citric acid  residual sugar  chlorides  \\\n",
              "0               7.4             0.700         0.00             1.9      0.076   \n",
              "1               7.8             0.880         0.00             2.6      0.098   \n",
              "2               7.8             0.760         0.04             2.3      0.092   \n",
              "3              11.2             0.280         0.56             1.9      0.075   \n",
              "4               7.4             0.700         0.00             1.9      0.076   \n",
              "...             ...               ...          ...             ...        ...   \n",
              "1594            6.2             0.600         0.08             2.0      0.090   \n",
              "1595            5.9             0.550         0.10             2.2      0.062   \n",
              "1596            6.3             0.510         0.13             2.3      0.076   \n",
              "1597            5.9             0.645         0.12             2.0      0.075   \n",
              "1598            6.0             0.310         0.47             3.6      0.067   \n",
              "\n",
              "      free sulfur dioxide  total sulfur dioxide  density    pH  sulphates  \\\n",
              "0                    11.0                  34.0  0.99780  3.51       0.56   \n",
              "1                    25.0                  67.0  0.99680  3.20       0.68   \n",
              "2                    15.0                  54.0  0.99700  3.26       0.65   \n",
              "3                    17.0                  60.0  0.99800  3.16       0.58   \n",
              "4                    11.0                  34.0  0.99780  3.51       0.56   \n",
              "...                   ...                   ...      ...   ...        ...   \n",
              "1594                 32.0                  44.0  0.99490  3.45       0.58   \n",
              "1595                 39.0                  51.0  0.99512  3.52       0.76   \n",
              "1596                 29.0                  40.0  0.99574  3.42       0.75   \n",
              "1597                 32.0                  44.0  0.99547  3.57       0.71   \n",
              "1598                 18.0                  42.0  0.99549  3.39       0.66   \n",
              "\n",
              "      alcohol  quality  \n",
              "0         9.4        5  \n",
              "1         9.8        5  \n",
              "2         9.8        5  \n",
              "3         9.8        6  \n",
              "4         9.4        5  \n",
              "...       ...      ...  \n",
              "1594     10.5        5  \n",
              "1595     11.2        6  \n",
              "1596     11.0        6  \n",
              "1597     10.2        5  \n",
              "1598     11.0        6  \n",
              "\n",
              "[1599 rows x 12 columns]"
            ]
          },
          "execution_count": 76,
          "metadata": {},
          "output_type": "execute_result"
        }
      ],
      "source": [
        "wine_quality_red"
      ]
    },
    {
      "cell_type": "markdown",
      "id": "574ce9f6",
      "metadata": {
        "id": "574ce9f6"
      },
      "source": [
        "# Activity 4: Handling Missing Values and Duplicates"
      ]
    },
    {
      "cell_type": "markdown",
      "id": "1ce009ae",
      "metadata": {
        "id": "1ce009ae"
      },
      "source": [
        "# 4.1 Handling Missing Values"
      ]
    },
    {
      "cell_type": "code",
      "execution_count": null,
      "id": "63a74adc",
      "metadata": {
        "id": "63a74adc"
      },
      "outputs": [],
      "source": [
        "# Link: https://archive.ics.uci.edu/dataset/186/wine+quality"
      ]
    },
    {
      "cell_type": "code",
      "execution_count": null,
      "id": "f4196445",
      "metadata": {
        "id": "f4196445"
      },
      "outputs": [],
      "source": [
        "# 2.1.1 Handling Missing Values with .sum()"
      ]
    },
    {
      "cell_type": "code",
      "execution_count": null,
      "id": "6e3c00b7",
      "metadata": {
        "id": "6e3c00b7"
      },
      "outputs": [],
      "source": [
        "wine_quality_red_missing_val = wine_quality_red.isnull().sum()"
      ]
    },
    {
      "cell_type": "code",
      "execution_count": null,
      "id": "1a953310",
      "metadata": {
        "id": "1a953310",
        "outputId": "7e3e6237-f257-40ef-86c3-a0df064dd140"
      },
      "outputs": [
        {
          "data": {
            "text/plain": [
              "fixed acidity           0\n",
              "volatile acidity        0\n",
              "citric acid             0\n",
              "residual sugar          0\n",
              "chlorides               0\n",
              "free sulfur dioxide     0\n",
              "total sulfur dioxide    0\n",
              "density                 0\n",
              "pH                      0\n",
              "sulphates               0\n",
              "alcohol                 0\n",
              "quality                 0\n",
              "dtype: int64"
            ]
          },
          "execution_count": 79,
          "metadata": {},
          "output_type": "execute_result"
        }
      ],
      "source": [
        "wine_quality_red_missing_val"
      ]
    },
    {
      "cell_type": "markdown",
      "id": "174d8d79",
      "metadata": {
        "id": "174d8d79"
      },
      "source": [
        "# 4.2 Handling Duplicates"
      ]
    },
    {
      "cell_type": "code",
      "execution_count": null,
      "id": "29551e70",
      "metadata": {
        "id": "29551e70"
      },
      "outputs": [],
      "source": [
        "# Link: https://archive.ics.uci.edu/dataset/186/wine+quality"
      ]
    },
    {
      "cell_type": "code",
      "execution_count": null,
      "id": "8c2ce6db",
      "metadata": {
        "id": "8c2ce6db"
      },
      "outputs": [],
      "source": [
        "wine_quality_red_duplicate_rows = wine_quality_red.duplicated()"
      ]
    },
    {
      "cell_type": "code",
      "execution_count": null,
      "id": "40c1cb6e",
      "metadata": {
        "id": "40c1cb6e"
      },
      "outputs": [],
      "source": [
        "# 4.1.1 Handling Duplicates"
      ]
    },
    {
      "cell_type": "code",
      "execution_count": null,
      "id": "9f4514c8",
      "metadata": {
        "id": "9f4514c8"
      },
      "outputs": [],
      "source": [
        "#using 'print', it outputs the number of how many duplicates there are."
      ]
    },
    {
      "cell_type": "code",
      "execution_count": null,
      "id": "58c1298b",
      "metadata": {
        "id": "58c1298b",
        "outputId": "abfca857-a018-4119-a02a-422bb7ce69b0"
      },
      "outputs": [
        {
          "name": "stdout",
          "output_type": "stream",
          "text": [
            "Number of Duplicate Rows: 240\n"
          ]
        }
      ],
      "source": [
        "print(\"Number of Duplicate Rows:\", wine_quality_red_duplicate_rows.sum())"
      ]
    },
    {
      "cell_type": "code",
      "execution_count": null,
      "id": "8a5c2fca",
      "metadata": {
        "id": "8a5c2fca"
      },
      "outputs": [],
      "source": [
        "# 4.1.2 Handling Duplicates"
      ]
    },
    {
      "cell_type": "code",
      "execution_count": null,
      "id": "6b741e61",
      "metadata": {
        "id": "6b741e61"
      },
      "outputs": [],
      "source": [
        "#inputting 'wine_quality_red_duplicate_rows' straight, then running it from there, it outputs all the data by number, then outputs True or False to check if there is a duplicate row."
      ]
    },
    {
      "cell_type": "code",
      "execution_count": null,
      "id": "ef9ebfda",
      "metadata": {
        "id": "ef9ebfda",
        "outputId": "38ae70dc-2a0c-41e6-8ce3-ce021948495e"
      },
      "outputs": [
        {
          "data": {
            "text/plain": [
              "0       False\n",
              "1       False\n",
              "2       False\n",
              "3       False\n",
              "4        True\n",
              "        ...  \n",
              "1594    False\n",
              "1595    False\n",
              "1596     True\n",
              "1597    False\n",
              "1598    False\n",
              "Length: 1599, dtype: bool"
            ]
          },
          "execution_count": 92,
          "metadata": {},
          "output_type": "execute_result"
        }
      ],
      "source": [
        "wine_quality_red_duplicate_rows"
      ]
    },
    {
      "cell_type": "code",
      "execution_count": null,
      "id": "d93c56f0",
      "metadata": {
        "id": "d93c56f0"
      },
      "outputs": [],
      "source": [
        "# 4.1.1.1 Removing Duplicate rows"
      ]
    },
    {
      "cell_type": "code",
      "execution_count": null,
      "id": "7684bfe9",
      "metadata": {
        "id": "7684bfe9"
      },
      "outputs": [],
      "source": [
        "# using 'drop_duplicates', this will remove all data occurences with duplicates."
      ]
    },
    {
      "cell_type": "code",
      "execution_count": null,
      "id": "37919aba",
      "metadata": {
        "id": "37919aba"
      },
      "outputs": [],
      "source": [
        "wine_quality_red_drop_dup = wine_quality_red.drop_duplicates()"
      ]
    },
    {
      "cell_type": "code",
      "execution_count": null,
      "id": "3bdca0f4",
      "metadata": {
        "id": "3bdca0f4",
        "outputId": "7a7e24e8-4d2e-41ac-e05c-6e77c1340165"
      },
      "outputs": [
        {
          "name": "stdout",
          "output_type": "stream",
          "text": [
            "\n",
            "Heart Disease Data after dropping Duplicates:\n",
            "\n",
            "      fixed acidity  volatile acidity  citric acid  residual sugar  chlorides  \\\n",
            "0               7.4             0.700         0.00             1.9      0.076   \n",
            "1               7.8             0.880         0.00             2.6      0.098   \n",
            "2               7.8             0.760         0.04             2.3      0.092   \n",
            "3              11.2             0.280         0.56             1.9      0.075   \n",
            "5               7.4             0.660         0.00             1.8      0.075   \n",
            "...             ...               ...          ...             ...        ...   \n",
            "1593            6.8             0.620         0.08             1.9      0.068   \n",
            "1594            6.2             0.600         0.08             2.0      0.090   \n",
            "1595            5.9             0.550         0.10             2.2      0.062   \n",
            "1597            5.9             0.645         0.12             2.0      0.075   \n",
            "1598            6.0             0.310         0.47             3.6      0.067   \n",
            "\n",
            "      free sulfur dioxide  total sulfur dioxide  density    pH  sulphates  \\\n",
            "0                    11.0                  34.0  0.99780  3.51       0.56   \n",
            "1                    25.0                  67.0  0.99680  3.20       0.68   \n",
            "2                    15.0                  54.0  0.99700  3.26       0.65   \n",
            "3                    17.0                  60.0  0.99800  3.16       0.58   \n",
            "5                    13.0                  40.0  0.99780  3.51       0.56   \n",
            "...                   ...                   ...      ...   ...        ...   \n",
            "1593                 28.0                  38.0  0.99651  3.42       0.82   \n",
            "1594                 32.0                  44.0  0.99490  3.45       0.58   \n",
            "1595                 39.0                  51.0  0.99512  3.52       0.76   \n",
            "1597                 32.0                  44.0  0.99547  3.57       0.71   \n",
            "1598                 18.0                  42.0  0.99549  3.39       0.66   \n",
            "\n",
            "      alcohol  quality  \n",
            "0         9.4        5  \n",
            "1         9.8        5  \n",
            "2         9.8        5  \n",
            "3         9.8        6  \n",
            "5         9.4        5  \n",
            "...       ...      ...  \n",
            "1593      9.5        6  \n",
            "1594     10.5        5  \n",
            "1595     11.2        6  \n",
            "1597     10.2        5  \n",
            "1598     11.0        6  \n",
            "\n",
            "[1359 rows x 12 columns]\n"
          ]
        }
      ],
      "source": [
        "print(\"\\nHeart Disease Data after dropping Duplicates:\\n\")\n",
        "print(wine_quality_red_drop_dup)"
      ]
    },
    {
      "cell_type": "markdown",
      "id": "f5f0931c",
      "metadata": {
        "id": "f5f0931c"
      },
      "source": [
        "# Activity 5: Feature Engineering - Creating New Features"
      ]
    },
    {
      "cell_type": "code",
      "execution_count": null,
      "id": "186b9060",
      "metadata": {
        "id": "186b9060"
      },
      "outputs": [],
      "source": [
        "# Link: # Link: https://archive.ics.uci.edu/dataset/186/wine+quality"
      ]
    },
    {
      "cell_type": "code",
      "execution_count": null,
      "id": "ee34112a",
      "metadata": {
        "id": "ee34112a"
      },
      "outputs": [],
      "source": [
        "import pandas as pd"
      ]
    },
    {
      "cell_type": "code",
      "execution_count": null,
      "id": "d2533af7",
      "metadata": {
        "id": "d2533af7"
      },
      "outputs": [],
      "source": [
        "wine_quality = pd.read_csv(\"winequality-red.csv\", delimiter=\";\", quoting=1)"
      ]
    },
    {
      "cell_type": "code",
      "execution_count": null,
      "id": "92b61631",
      "metadata": {
        "id": "92b61631",
        "outputId": "375cfedc-8d0d-4c29-8c0b-51db58bc7106"
      },
      "outputs": [
        {
          "data": {
            "text/html": [
              "<div>\n",
              "<style scoped>\n",
              "    .dataframe tbody tr th:only-of-type {\n",
              "        vertical-align: middle;\n",
              "    }\n",
              "\n",
              "    .dataframe tbody tr th {\n",
              "        vertical-align: top;\n",
              "    }\n",
              "\n",
              "    .dataframe thead th {\n",
              "        text-align: right;\n",
              "    }\n",
              "</style>\n",
              "<table border=\"1\" class=\"dataframe\">\n",
              "  <thead>\n",
              "    <tr style=\"text-align: right;\">\n",
              "      <th></th>\n",
              "      <th>fixed acidity</th>\n",
              "      <th>volatile acidity</th>\n",
              "      <th>citric acid</th>\n",
              "      <th>residual sugar</th>\n",
              "      <th>chlorides</th>\n",
              "      <th>free sulfur dioxide</th>\n",
              "      <th>total sulfur dioxide</th>\n",
              "      <th>density</th>\n",
              "      <th>pH</th>\n",
              "      <th>sulphates</th>\n",
              "      <th>alcohol</th>\n",
              "      <th>quality</th>\n",
              "    </tr>\n",
              "  </thead>\n",
              "  <tbody>\n",
              "    <tr>\n",
              "      <th>0</th>\n",
              "      <td>7.4</td>\n",
              "      <td>0.700</td>\n",
              "      <td>0.00</td>\n",
              "      <td>1.9</td>\n",
              "      <td>0.076</td>\n",
              "      <td>11.0</td>\n",
              "      <td>34.0</td>\n",
              "      <td>0.99780</td>\n",
              "      <td>3.51</td>\n",
              "      <td>0.56</td>\n",
              "      <td>9.4</td>\n",
              "      <td>5</td>\n",
              "    </tr>\n",
              "    <tr>\n",
              "      <th>1</th>\n",
              "      <td>7.8</td>\n",
              "      <td>0.880</td>\n",
              "      <td>0.00</td>\n",
              "      <td>2.6</td>\n",
              "      <td>0.098</td>\n",
              "      <td>25.0</td>\n",
              "      <td>67.0</td>\n",
              "      <td>0.99680</td>\n",
              "      <td>3.20</td>\n",
              "      <td>0.68</td>\n",
              "      <td>9.8</td>\n",
              "      <td>5</td>\n",
              "    </tr>\n",
              "    <tr>\n",
              "      <th>2</th>\n",
              "      <td>7.8</td>\n",
              "      <td>0.760</td>\n",
              "      <td>0.04</td>\n",
              "      <td>2.3</td>\n",
              "      <td>0.092</td>\n",
              "      <td>15.0</td>\n",
              "      <td>54.0</td>\n",
              "      <td>0.99700</td>\n",
              "      <td>3.26</td>\n",
              "      <td>0.65</td>\n",
              "      <td>9.8</td>\n",
              "      <td>5</td>\n",
              "    </tr>\n",
              "    <tr>\n",
              "      <th>3</th>\n",
              "      <td>11.2</td>\n",
              "      <td>0.280</td>\n",
              "      <td>0.56</td>\n",
              "      <td>1.9</td>\n",
              "      <td>0.075</td>\n",
              "      <td>17.0</td>\n",
              "      <td>60.0</td>\n",
              "      <td>0.99800</td>\n",
              "      <td>3.16</td>\n",
              "      <td>0.58</td>\n",
              "      <td>9.8</td>\n",
              "      <td>6</td>\n",
              "    </tr>\n",
              "    <tr>\n",
              "      <th>4</th>\n",
              "      <td>7.4</td>\n",
              "      <td>0.700</td>\n",
              "      <td>0.00</td>\n",
              "      <td>1.9</td>\n",
              "      <td>0.076</td>\n",
              "      <td>11.0</td>\n",
              "      <td>34.0</td>\n",
              "      <td>0.99780</td>\n",
              "      <td>3.51</td>\n",
              "      <td>0.56</td>\n",
              "      <td>9.4</td>\n",
              "      <td>5</td>\n",
              "    </tr>\n",
              "    <tr>\n",
              "      <th>...</th>\n",
              "      <td>...</td>\n",
              "      <td>...</td>\n",
              "      <td>...</td>\n",
              "      <td>...</td>\n",
              "      <td>...</td>\n",
              "      <td>...</td>\n",
              "      <td>...</td>\n",
              "      <td>...</td>\n",
              "      <td>...</td>\n",
              "      <td>...</td>\n",
              "      <td>...</td>\n",
              "      <td>...</td>\n",
              "    </tr>\n",
              "    <tr>\n",
              "      <th>1594</th>\n",
              "      <td>6.2</td>\n",
              "      <td>0.600</td>\n",
              "      <td>0.08</td>\n",
              "      <td>2.0</td>\n",
              "      <td>0.090</td>\n",
              "      <td>32.0</td>\n",
              "      <td>44.0</td>\n",
              "      <td>0.99490</td>\n",
              "      <td>3.45</td>\n",
              "      <td>0.58</td>\n",
              "      <td>10.5</td>\n",
              "      <td>5</td>\n",
              "    </tr>\n",
              "    <tr>\n",
              "      <th>1595</th>\n",
              "      <td>5.9</td>\n",
              "      <td>0.550</td>\n",
              "      <td>0.10</td>\n",
              "      <td>2.2</td>\n",
              "      <td>0.062</td>\n",
              "      <td>39.0</td>\n",
              "      <td>51.0</td>\n",
              "      <td>0.99512</td>\n",
              "      <td>3.52</td>\n",
              "      <td>0.76</td>\n",
              "      <td>11.2</td>\n",
              "      <td>6</td>\n",
              "    </tr>\n",
              "    <tr>\n",
              "      <th>1596</th>\n",
              "      <td>6.3</td>\n",
              "      <td>0.510</td>\n",
              "      <td>0.13</td>\n",
              "      <td>2.3</td>\n",
              "      <td>0.076</td>\n",
              "      <td>29.0</td>\n",
              "      <td>40.0</td>\n",
              "      <td>0.99574</td>\n",
              "      <td>3.42</td>\n",
              "      <td>0.75</td>\n",
              "      <td>11.0</td>\n",
              "      <td>6</td>\n",
              "    </tr>\n",
              "    <tr>\n",
              "      <th>1597</th>\n",
              "      <td>5.9</td>\n",
              "      <td>0.645</td>\n",
              "      <td>0.12</td>\n",
              "      <td>2.0</td>\n",
              "      <td>0.075</td>\n",
              "      <td>32.0</td>\n",
              "      <td>44.0</td>\n",
              "      <td>0.99547</td>\n",
              "      <td>3.57</td>\n",
              "      <td>0.71</td>\n",
              "      <td>10.2</td>\n",
              "      <td>5</td>\n",
              "    </tr>\n",
              "    <tr>\n",
              "      <th>1598</th>\n",
              "      <td>6.0</td>\n",
              "      <td>0.310</td>\n",
              "      <td>0.47</td>\n",
              "      <td>3.6</td>\n",
              "      <td>0.067</td>\n",
              "      <td>18.0</td>\n",
              "      <td>42.0</td>\n",
              "      <td>0.99549</td>\n",
              "      <td>3.39</td>\n",
              "      <td>0.66</td>\n",
              "      <td>11.0</td>\n",
              "      <td>6</td>\n",
              "    </tr>\n",
              "  </tbody>\n",
              "</table>\n",
              "<p>1599 rows × 12 columns</p>\n",
              "</div>"
            ],
            "text/plain": [
              "      fixed acidity  volatile acidity  citric acid  residual sugar  chlorides  \\\n",
              "0               7.4             0.700         0.00             1.9      0.076   \n",
              "1               7.8             0.880         0.00             2.6      0.098   \n",
              "2               7.8             0.760         0.04             2.3      0.092   \n",
              "3              11.2             0.280         0.56             1.9      0.075   \n",
              "4               7.4             0.700         0.00             1.9      0.076   \n",
              "...             ...               ...          ...             ...        ...   \n",
              "1594            6.2             0.600         0.08             2.0      0.090   \n",
              "1595            5.9             0.550         0.10             2.2      0.062   \n",
              "1596            6.3             0.510         0.13             2.3      0.076   \n",
              "1597            5.9             0.645         0.12             2.0      0.075   \n",
              "1598            6.0             0.310         0.47             3.6      0.067   \n",
              "\n",
              "      free sulfur dioxide  total sulfur dioxide  density    pH  sulphates  \\\n",
              "0                    11.0                  34.0  0.99780  3.51       0.56   \n",
              "1                    25.0                  67.0  0.99680  3.20       0.68   \n",
              "2                    15.0                  54.0  0.99700  3.26       0.65   \n",
              "3                    17.0                  60.0  0.99800  3.16       0.58   \n",
              "4                    11.0                  34.0  0.99780  3.51       0.56   \n",
              "...                   ...                   ...      ...   ...        ...   \n",
              "1594                 32.0                  44.0  0.99490  3.45       0.58   \n",
              "1595                 39.0                  51.0  0.99512  3.52       0.76   \n",
              "1596                 29.0                  40.0  0.99574  3.42       0.75   \n",
              "1597                 32.0                  44.0  0.99547  3.57       0.71   \n",
              "1598                 18.0                  42.0  0.99549  3.39       0.66   \n",
              "\n",
              "      alcohol  quality  \n",
              "0         9.4        5  \n",
              "1         9.8        5  \n",
              "2         9.8        5  \n",
              "3         9.8        6  \n",
              "4         9.4        5  \n",
              "...       ...      ...  \n",
              "1594     10.5        5  \n",
              "1595     11.2        6  \n",
              "1596     11.0        6  \n",
              "1597     10.2        5  \n",
              "1598     11.0        6  \n",
              "\n",
              "[1599 rows x 12 columns]"
            ]
          },
          "execution_count": 215,
          "metadata": {},
          "output_type": "execute_result"
        }
      ],
      "source": [
        "wine_quality"
      ]
    },
    {
      "cell_type": "code",
      "execution_count": null,
      "id": "397e585b",
      "metadata": {
        "id": "397e585b"
      },
      "outputs": [],
      "source": [
        "# Creating Total Acidity with the sum of Fixed Acidity and Volatile Acidity"
      ]
    },
    {
      "cell_type": "code",
      "execution_count": null,
      "id": "8d909f5c",
      "metadata": {
        "id": "8d909f5c"
      },
      "outputs": [],
      "source": [
        "Total_Acidity = wine_quality['fixed acidity'] + wine_quality['volatile acidity']"
      ]
    },
    {
      "cell_type": "code",
      "execution_count": null,
      "id": "28a634ef",
      "metadata": {
        "id": "28a634ef"
      },
      "outputs": [],
      "source": [
        "df = pd.DataFrame(Total_Acidity)"
      ]
    },
    {
      "cell_type": "code",
      "execution_count": null,
      "id": "f0304609",
      "metadata": {
        "id": "f0304609",
        "outputId": "c584309f-fe0d-4206-b989-e6900b26808c"
      },
      "outputs": [
        {
          "name": "stdout",
          "output_type": "stream",
          "text": [
            "           0\n",
            "0      8.100\n",
            "1      8.680\n",
            "2      8.560\n",
            "3     11.480\n",
            "4      8.100\n",
            "...      ...\n",
            "1594   6.800\n",
            "1595   6.450\n",
            "1596   6.810\n",
            "1597   6.545\n",
            "1598   6.310\n",
            "\n",
            "[1599 rows x 1 columns]\n"
          ]
        }
      ],
      "source": [
        "print(df)"
      ]
    },
    {
      "cell_type": "code",
      "execution_count": null,
      "id": "1a0ef083",
      "metadata": {
        "id": "1a0ef083"
      },
      "outputs": [],
      "source": [
        "# Showing All Quality"
      ]
    },
    {
      "cell_type": "code",
      "execution_count": null,
      "id": "530fa9ca",
      "metadata": {
        "id": "530fa9ca"
      },
      "outputs": [],
      "source": [
        "wine_quality['wine_quality'] = (wine_quality['quality'] >= 7).astype(int)\n",
        "wine_quality['quality_rating'] = wine_quality['wine_quality'].map({1: 'Good', 0: 'Bad'})"
      ]
    },
    {
      "cell_type": "code",
      "execution_count": null,
      "id": "72a43c1c",
      "metadata": {
        "id": "72a43c1c",
        "outputId": "41d57409-7127-4711-8a4a-3811ad1ca000"
      },
      "outputs": [
        {
          "name": "stdout",
          "output_type": "stream",
          "text": [
            "      quality  wine_quality quality_rating\n",
            "0           5             0            Bad\n",
            "1           5             0            Bad\n",
            "2           5             0            Bad\n",
            "3           6             0            Bad\n",
            "4           5             0            Bad\n",
            "...       ...           ...            ...\n",
            "1594        5             0            Bad\n",
            "1595        6             0            Bad\n",
            "1596        6             0            Bad\n",
            "1597        5             0            Bad\n",
            "1598        6             0            Bad\n",
            "\n",
            "[1599 rows x 3 columns]\n"
          ]
        }
      ],
      "source": [
        "print(wine_quality[['quality', 'wine_quality', 'quality_rating']])"
      ]
    },
    {
      "cell_type": "code",
      "execution_count": null,
      "id": "5fd55a67",
      "metadata": {
        "id": "5fd55a67"
      },
      "outputs": [],
      "source": [
        "# Only showing good quality"
      ]
    },
    {
      "cell_type": "code",
      "execution_count": null,
      "id": "66963841",
      "metadata": {
        "scrolled": true,
        "id": "66963841",
        "outputId": "2ee943e6-fae6-4d42-b5eb-f3217e356ed1"
      },
      "outputs": [
        {
          "name": "stdout",
          "output_type": "stream",
          "text": [
            "      fixed acidity  volatile acidity  quality  wine_quality quality_rating\n",
            "7               7.3              0.65        7             1           Good\n",
            "8               7.8              0.58        7             1           Good\n",
            "16              8.5              0.28        7             1           Good\n",
            "37              8.1              0.38        7             1           Good\n",
            "62              7.5              0.52        7             1           Good\n",
            "...             ...               ...      ...           ...            ...\n",
            "1541            7.4              0.25        7             1           Good\n",
            "1544            8.4              0.37        7             1           Good\n",
            "1549            7.4              0.36        8             1           Good\n",
            "1555            7.0              0.56        7             1           Good\n",
            "1584            6.7              0.32        7             1           Good\n",
            "\n",
            "[217 rows x 5 columns]\n"
          ]
        }
      ],
      "source": [
        "good_quality_df = wine_quality[wine_quality['wine_quality'] == 1]\n",
        "print(good_quality_df[['fixed acidity', 'volatile acidity', 'quality', 'wine_quality', 'quality_rating']])"
      ]
    },
    {
      "cell_type": "code",
      "execution_count": null,
      "id": "d01ff5f8",
      "metadata": {
        "id": "d01ff5f8"
      },
      "outputs": [],
      "source": [
        "# Only showing bad quality"
      ]
    },
    {
      "cell_type": "code",
      "execution_count": null,
      "id": "14c3e654",
      "metadata": {
        "id": "14c3e654",
        "outputId": "97cc9714-d1a3-4315-c691-7fd852f3c072"
      },
      "outputs": [
        {
          "name": "stdout",
          "output_type": "stream",
          "text": [
            "      fixed acidity  volatile acidity  quality  wine_quality quality_rating\n",
            "0               7.4             0.700        5             0            Bad\n",
            "1               7.8             0.880        5             0            Bad\n",
            "2               7.8             0.760        5             0            Bad\n",
            "3              11.2             0.280        6             0            Bad\n",
            "4               7.4             0.700        5             0            Bad\n",
            "...             ...               ...      ...           ...            ...\n",
            "1594            6.2             0.600        5             0            Bad\n",
            "1595            5.9             0.550        6             0            Bad\n",
            "1596            6.3             0.510        6             0            Bad\n",
            "1597            5.9             0.645        5             0            Bad\n",
            "1598            6.0             0.310        6             0            Bad\n",
            "\n",
            "[1382 rows x 5 columns]\n"
          ]
        }
      ],
      "source": [
        "good_quality_df = wine_quality[wine_quality['wine_quality'] == 0]\n",
        "print(good_quality_df[['fixed acidity', 'volatile acidity', 'quality', 'wine_quality', 'quality_rating']])"
      ]
    },
    {
      "cell_type": "code",
      "execution_count": null,
      "id": "71b5c11a",
      "metadata": {
        "id": "71b5c11a"
      },
      "outputs": [],
      "source": []
    }
  ],
  "metadata": {
    "kernelspec": {
      "display_name": "Python 3 (ipykernel)",
      "language": "python",
      "name": "python3"
    },
    "language_info": {
      "codemirror_mode": {
        "name": "ipython",
        "version": 3
      },
      "file_extension": ".py",
      "mimetype": "text/x-python",
      "name": "python",
      "nbconvert_exporter": "python",
      "pygments_lexer": "ipython3",
      "version": "3.9.12"
    },
    "colab": {
      "provenance": [],
      "include_colab_link": true
    }
  },
  "nbformat": 4,
  "nbformat_minor": 5
}